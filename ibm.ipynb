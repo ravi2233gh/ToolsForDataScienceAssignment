{
 "cells": [
  {
   "cell_type": "markdown",
   "metadata": {},
   "source": [
    "# Title of the notebook"
   ]
  },
  {
   "cell_type": "markdown",
   "metadata": {},
   "source": [
    "# Introduction\n",
    "\n",
    "Let's get started!\n"
   ]
  },
  {
   "cell_type": "markdown",
   "metadata": {},
   "source": [
    "# Data Science Languages\n",
    "\n",
    "The following programming languages are widely used in the field of data science:\n",
    "\n",
    "1. **Python** - Known for its readability and extensive libraries for data analysis, machine learning, and visualization.\n",
    "2. **R** - Popular for statistical analysis and data visualization, especially among researchers and statisticians.\n",
    "3. **SQL** - Essential for data manipulation and querying databases.\n",
    "4. **Java** - Used for building large-scale data processing frameworks and applications.\n",
    "5. **Julia** - Known for high-performance computing, especially suitable for numerical and scientific computing.\n",
    "6. **Scala** - Often used with Apache Spark for big data processing.\n",
    "\n",
    "Each language has its strengths, and data scientists often choose the best language based on the task requirements."
   ]
  },
  {
   "cell_type": "markdown",
   "metadata": {},
   "source": [
    "# Data Science Libraries\n",
    "\n",
    "The following libraries are commonly used in data science for various purposes:\n",
    "\n",
    "1. **Python Libraries**\n",
    "   - **Pandas**: For data manipulation and analysis.\n",
    "   - **NumPy**: For numerical computations and handling large arrays.\n",
    "   - **Matplotlib**: For data visualization and plotting.\n",
    "   - **Seaborn**: For statistical data visualization.\n",
    "   - **Scikit-Learn**: For machine learning algorithms.\n",
    "   - **TensorFlow**: For deep learning and neural networks.\n",
    "   - **Keras**: A high-level neural networks API, often used with TensorFlow.\n",
    "   \n",
    "2. **R Libraries**\n",
    "   - **dplyr**: For data manipulation.\n",
    "   - **ggplot2**: For data visualization.\n",
    "   - **caret**: For machine learning.\n",
    "   - **randomForest**: For ensemble learning with decision trees.\n",
    "   \n",
    "3. **Scala Libraries**\n",
    "   - **Spark MLlib**: For scalable machine learning, especially with big data.\n",
    "   \n",
    "These libraries provide essential tools for data preprocessing, analysis, visualization, and modeling, and are widely used by data scientists across various fields.\n"
   ]
  },
  {
   "cell_type": "markdown",
   "metadata": {},
   "source": [
    "# Data Science Tools\n",
    "\n",
    "| Tool            | Purpose                              | Language Support        |\n",
    "|-----------------|--------------------------------------|-------------------------|\n",
    "| Jupyter Notebook| Interactive coding and visualization| Python, R, Julia        |\n",
    "| RStudio         | Data analysis and statistical computing | R                      |\n",
    "| Apache Spark    | Big data processing and machine learning | Scala, Python, R      |\n",
    "| TensorFlow      | Deep learning and neural networks    | Python, C++             |\n",
    "| Apache Hadoop   | Distributed storage and processing of big data | Java             |\n",
    "| Tableau         | Data visualization and business intelligence | N/A (UI-based)       |\n",
    "| Power BI        | Business intelligence and visualization | N/A (UI-based)        |\n",
    "| KNIME           | Data analytics, reporting, and integration | N/A (UI-based)       |\n",
    "\n",
    "This table outlines various tools used in data science, highlighting their primary purpo\n"
   ]
  },
  {
   "cell_type": "code",
   "execution_count": null,
   "metadata": {
    "vscode": {
     "languageId": "plaintext"
    }
   },
   "outputs": [],
   "source": [
    "# Exercise 8 - Multiply and add numbers\n",
    "\n",
    "# Define two numbers\n",
    "a = 5\n",
    "b = 3\n",
    "\n",
    "# Perform multiplication and addition\n",
    "multiplication_result = a * b\n",
    "addition_result = a + b\n",
    "\n",
    "# Display the results\n",
    "print(\"Multiplication Result:\", multiplication_result)\n",
    "print(\"Addition Result:\", addition_result)\n"
   ]
  },
  {
   "cell_type": "code",
   "execution_count": null,
   "metadata": {},
   "outputs": [],
   "source": [
    "# Exercise 9 - Convert minutes to hours\n",
    "\n",
    "# Define the number of minutes\n",
    "minutes = 150\n",
    "\n",
    "# Convert minutes to hours\n",
    "hours = minutes / 60\n",
    "\n",
    "# Display the result\n",
    "print(f\"{minutes} minutes is equal to {hours} hours.\")\n"
   ]
  },
  {
   "cell_type": "markdown",
   "metadata": {},
   "source": [
    "## Objectives\n",
    "\n",
    "- Understand the basics of data science languages and tools.\n",
    "- Learn how to work with Python and its libraries for data analysis.\n",
    "- Gain hands-on experience with Jupyter Notebook for interactive coding and documentation.\n",
    "- Explore fundamental data manipulation and analysis techniques.\n",
    "- Develop skills to visualize data and present insights effectively.\n"
   ]
  },
  {
   "cell_type": "markdown",
   "metadata": {},
   "source": [
    "## Author\n",
    "\n",
    "- Ravi Singh\n"
   ]
  }
 ],
 "metadata": {
  "language_info": {
   "name": "python"
  }
 },
 "nbformat": 4,
 "nbformat_minor": 2
}
